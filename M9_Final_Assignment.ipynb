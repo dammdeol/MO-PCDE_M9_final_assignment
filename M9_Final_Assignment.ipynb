{
 "cells": [
  {
   "cell_type": "markdown",
   "metadata": {
    "deletable": false,
    "editable": false,
    "nbgrader": {
     "checksum": "fe8b93be4bd8894d6003a2c3237fbdde",
     "grade": false,
     "grade_id": "cell-e9576a45b927c74e",
     "locked": true,
     "schema_version": 1,
     "solution": false
    }
   },
   "source": [
    "# Codio Coding Assignment 9.1: GitHub and Advanced Python Functions\n",
    "##  Damaris Viridiana Deolarte Hernández\n",
    "\n",
    "### Learning Outcomes Addressed\n",
    "\n",
    "- 2. Use GitHub for version control.\n",
    "- 4. Implement Python classes.\n",
    "- 5. Write code using advanced Python functions.\n",
    "- 6. Utilize Python decorator and wrappers.\n",
    "\n",
    "\n",
    "## Index:\n",
    "\n",
    "- [Question 1](#Question-1)\n",
    "- [Question 2](#Question-2)\n",
    "- [Question 3](#Question-3)\n",
    "- [Question 4](#Question-4)\n",
    "- [Question 5](#Question-5)\n",
    "- [Question 6](#Question-6)\n",
    "- [Question 7](#Question-7)\n",
    "- [Question 8](#Question-8)\n",
    "- [Question 9](#Question-9)\n",
    "- [Question 10](#Question-10)\n",
    "- [Question 11](#Question-11)\n",
    "- [Question 12](#Question-12)\n",
    "- [Question 13](#Question-13)"
   ]
  },
  {
   "cell_type": "markdown",
   "metadata": {
    "deletable": false,
    "editable": false,
    "nbgrader": {
     "checksum": "626fbd82ae6a8b117fc22c2ebda8362e",
     "grade": false,
     "grade_id": "cell-334c0f9d414b2c21",
     "locked": true,
     "schema_version": 1,
     "solution": false
    }
   },
   "source": [
    "# Python Classes\n",
    "\n",
    "## Question 1\n",
    "\n",
    "*5 points*\n",
    "\n",
    "Write a Python *class*, *`Student`*, with no attributes assigned to it.\n",
    "\n",
    "\n",
    "Assign the type of *`Student`* to *`ans1a`*. Assign the *`__module__`* attribute of the *`Student`* *class* to *`ans1b`*.\n",
    "\n",
    "**HINT:** Because *`Student`* does not have any attributes, you can end its definition with the keyword *`pass.`*"
   ]
  },
  {
   "cell_type": "code",
   "execution_count": 1,
   "metadata": {
    "deletable": false,
    "nbgrader": {
     "checksum": "e57763a43d53027e2e226660e6353ccf",
     "grade": false,
     "grade_id": "cell-cee9a5a9f7407a5a",
     "locked": false,
     "schema_version": 1,
     "solution": true
    }
   },
   "outputs": [],
   "source": [
    "### GRADED\n",
    "\n",
    "### YOUR SOLUTION HERE\n",
    "ans1a = None\n",
    "ans1b = None\n",
    "\n",
    "# YOUR CODE HERE\n",
    "class Student:\n",
    "    pass\n",
    "\n",
    "ans1a = type(Student)\n",
    "\n",
    "ans1b = Student.__module__"
   ]
  },
  {
   "cell_type": "code",
   "execution_count": 2,
   "metadata": {},
   "outputs": [
    {
     "name": "stdout",
     "output_type": "stream",
     "text": [
      "<class 'type'>\n",
      "__main__\n"
     ]
    }
   ],
   "source": [
    "print(ans1a)\n",
    "print(ans1b)"
   ]
  },
  {
   "cell_type": "code",
   "execution_count": null,
   "metadata": {
    "deletable": false,
    "editable": false,
    "nbgrader": {
     "checksum": "137a468cd420d999691ae3737620b181",
     "grade": true,
     "grade_id": "cell-9221f8a181b90f1c",
     "locked": true,
     "points": 5,
     "schema_version": 1,
     "solution": false
    }
   },
   "outputs": [],
   "source": []
  },
  {
   "cell_type": "markdown",
   "metadata": {
    "deletable": false,
    "editable": false,
    "nbgrader": {
     "checksum": "891b4fe901e63ca5fb53e2f7ccd40db6",
     "grade": false,
     "grade_id": "cell-7428be46e65ec527",
     "locked": true,
     "schema_version": 1,
     "solution": false
    }
   },
   "source": [
    "## Question 2\n",
    "\n",
    "*5 points*\n",
    "\n",
    "Modify the Python *class*, *`Student`* so that it has two attributes, *`student_name`* and *`grade`*, with values `John Smith` and `86`, respectively.\n",
    "\n",
    "Assign the member *`student_name`* of the *class `Student`* to *`ans2a`*."
   ]
  },
  {
   "cell_type": "code",
   "execution_count": 3,
   "metadata": {
    "deletable": false,
    "nbgrader": {
     "checksum": "4de596c57b37ec82c5992cb8a0111810",
     "grade": false,
     "grade_id": "cell-3de7b315bd54d347",
     "locked": false,
     "schema_version": 1,
     "solution": true
    }
   },
   "outputs": [],
   "source": [
    "### GRADED\n",
    "\n",
    "### YOUR SOLUTION HERE\n",
    "ans2a = None\n",
    "\n",
    "\n",
    "# YOUR CODE HERE\n",
    "class Student:\n",
    "    student_name = \"John Smith\"\n",
    "    grade = 86\n",
    "    \n",
    "ans2a = Student.student_name"
   ]
  },
  {
   "cell_type": "code",
   "execution_count": 4,
   "metadata": {},
   "outputs": [
    {
     "name": "stdout",
     "output_type": "stream",
     "text": [
      "John Smith\n"
     ]
    }
   ],
   "source": [
    "print(ans2a) "
   ]
  },
  {
   "cell_type": "code",
   "execution_count": null,
   "metadata": {
    "deletable": false,
    "editable": false,
    "nbgrader": {
     "checksum": "98ced10eb3f7b4933519e977848a27e5",
     "grade": true,
     "grade_id": "cell-723b3ecf0006d8cf",
     "locked": true,
     "points": 5,
     "schema_version": 1,
     "solution": false
    }
   },
   "outputs": [],
   "source": []
  },
  {
   "cell_type": "markdown",
   "metadata": {
    "deletable": false,
    "editable": false,
    "nbgrader": {
     "checksum": "025ac91119c64aba10bfcd1680dfa754",
     "grade": false,
     "grade_id": "cell-0282a0484136398a",
     "locked": true,
     "schema_version": 1,
     "solution": false
    }
   },
   "source": [
    "## Question 3\n",
    "\n",
    "*7 points*\n",
    "\n",
    "The Python *function [`setattr`](https://docs.python.org/3/library/functions.html#setattr)* can be used to modify the attributes of a class. It basic syntax reads as follow:\n",
    "\n",
    "```Python\n",
    "setattr = (class_name, attribute_name, updated_value)\n",
    "\n",
    "```\n",
    "\n",
    "Use the *function `setattr`* to modify the Python *class*, *`Student`* so that  *`student_name`* and *`grade`* are equal to `Angela Brooks` and `87`, respectively. Assign these operations to *`ans3a`* and *`ans3b`*, respectively."
   ]
  },
  {
   "cell_type": "code",
   "execution_count": 5,
   "metadata": {
    "deletable": false,
    "nbgrader": {
     "checksum": "13cb879b4b1186c3871015c1c717007a",
     "grade": false,
     "grade_id": "cell-cf365eaee66df46b",
     "locked": false,
     "schema_version": 1,
     "solution": true
    }
   },
   "outputs": [],
   "source": [
    "### GRADED\n",
    "\n",
    "### YOUR SOLUTION HERE\n",
    "ans3a = None\n",
    "ans3b = None\n",
    "\n",
    "# YOUR CODE HERE\n",
    "class Student:\n",
    "    student_name = \"John Smith\"\n",
    "    grade = 86\n",
    "\n",
    "\n",
    "ans3a = setattr(Student, 'student_name', 'Angela Brooks')\n",
    "ans3b = setattr(Student, 'grade', 87)"
   ]
  },
  {
   "cell_type": "code",
   "execution_count": 6,
   "metadata": {},
   "outputs": [
    {
     "data": {
      "text/plain": [
       "'Angela Brooks'"
      ]
     },
     "execution_count": 6,
     "metadata": {},
     "output_type": "execute_result"
    }
   ],
   "source": [
    "Student.student_name"
   ]
  },
  {
   "cell_type": "code",
   "execution_count": 7,
   "metadata": {},
   "outputs": [
    {
     "data": {
      "text/plain": [
       "87"
      ]
     },
     "execution_count": 7,
     "metadata": {},
     "output_type": "execute_result"
    }
   ],
   "source": [
    "Student.grade"
   ]
  },
  {
   "cell_type": "code",
   "execution_count": null,
   "metadata": {
    "deletable": false,
    "editable": false,
    "nbgrader": {
     "checksum": "657d9b6a6a375365123c582f137c208d",
     "grade": true,
     "grade_id": "cell-975a9d1e5f35abc0",
     "locked": true,
     "points": 7,
     "schema_version": 1,
     "solution": false
    }
   },
   "outputs": [],
   "source": []
  },
  {
   "cell_type": "markdown",
   "metadata": {
    "deletable": false,
    "editable": false,
    "nbgrader": {
     "checksum": "0b13d682965e4b2b0d0eef48158c3658",
     "grade": false,
     "grade_id": "cell-712c60a8965903b4",
     "locked": true,
     "schema_version": 1,
     "solution": false
    }
   },
   "source": [
    "## Question 4\n",
    "\n",
    "*6 points*\n",
    "\n",
    "Use a constructor to define a Python *class*, *`Student`*, with attributes *`student_name`*, *`student_id`*, *`grade`*, and *`email`*.\n",
    "\n",
    "Construct a student, *`ans4`*, with name equal to `Francis Green`, student ID equal to `475895`, grade equal to `56`, and email address equal to `francisgreen@mit.edu`.\n"
   ]
  },
  {
   "cell_type": "code",
   "execution_count": 8,
   "metadata": {
    "deletable": false,
    "nbgrader": {
     "checksum": "9066d40830adb4213abdf1468f83ba65",
     "grade": false,
     "grade_id": "cell-31f492bb3028dccb",
     "locked": false,
     "schema_version": 1,
     "solution": true
    }
   },
   "outputs": [],
   "source": [
    "### GRADED\n",
    "\n",
    "### YOUR SOLUTION HERE\n",
    "ans4 = None\n",
    "\n",
    "\n",
    "# YOUR CODE HERE\n",
    "class Student:\n",
    "    def __init__(self, student_name, student_id, grade, email):\n",
    "        self.student_name = student_name\n",
    "        self.student_id = student_id\n",
    "        self.grade = grade\n",
    "        self.email = email\n",
    "        \n",
    "ans4 = Student(student_name=\"Francis Green\", student_id=475895, grade=56, email=\"francisgreen@mit.edu\")\n"
   ]
  },
  {
   "cell_type": "code",
   "execution_count": 9,
   "metadata": {},
   "outputs": [
    {
     "name": "stdout",
     "output_type": "stream",
     "text": [
      "Name: Francis Green\n",
      "Student ID: 475895\n",
      "Grade: 56\n",
      "Email: francisgreen@mit.edu\n"
     ]
    }
   ],
   "source": [
    "print(f\"Name: {ans4.student_name}\")\n",
    "print(f\"Student ID: {ans4.student_id}\")\n",
    "print(f\"Grade: {ans4.grade}\")\n",
    "print(f\"Email: {ans4.email}\")"
   ]
  },
  {
   "cell_type": "code",
   "execution_count": null,
   "metadata": {
    "deletable": false,
    "editable": false,
    "nbgrader": {
     "checksum": "85174ffbe88c4c4e72d2060bbb351c70",
     "grade": true,
     "grade_id": "cell-acd449443dcb17ac",
     "locked": true,
     "points": 6,
     "schema_version": 1,
     "solution": false
    }
   },
   "outputs": [],
   "source": []
  },
  {
   "cell_type": "markdown",
   "metadata": {
    "deletable": false,
    "editable": false,
    "nbgrader": {
     "checksum": "524d7dfa611585b6d58d7e8ab1ab2011",
     "grade": false,
     "grade_id": "cell-39a18bf667de7d8d",
     "locked": true,
     "schema_version": 1,
     "solution": false
    }
   },
   "source": [
    "## Question 5\n",
    "\n",
    "*7 points*\n",
    "\n",
    "Add a *function, `curved_average`*, to the *`Student` class* defined above that takes the value stored in *`grade`* and multiplies it by `1.2`. This *function* should return a value *`updated_grade`*.\n",
    "\n",
    "Compute the updated average of the student *`ans4`* computed in the previous questions and assign the result to *`ans5`*."
   ]
  },
  {
   "cell_type": "code",
   "execution_count": 10,
   "metadata": {
    "deletable": false,
    "nbgrader": {
     "checksum": "be5abb434d52e89ded8fe7ce7c5239fb",
     "grade": false,
     "grade_id": "cell-76bd2fb6c6f0ce97",
     "locked": false,
     "schema_version": 1,
     "solution": true
    }
   },
   "outputs": [],
   "source": [
    "### GRADED\n",
    "\n",
    "### YOUR SOLUTION HERE\n",
    "ans5 = None\n",
    "\n",
    "\n",
    "# YOUR CODE HERE\n",
    "class Student:\n",
    "    def __init__(self, student_name, student_id, grade, email):\n",
    "        self.student_name = student_name\n",
    "        self.student_id = student_id\n",
    "        self.grade = grade\n",
    "        self.email = email\n",
    "    \n",
    "    def curved_average(self):\n",
    "        updated_grade = self.grade * 1.2\n",
    "        return updated_grade\n",
    "    \n",
    "ans4 = Student(\"Francis Green\", 475895, 56, \"francisgreen@mit.edu\")\n",
    "ans5 = ans4.curved_average()    "
   ]
  },
  {
   "cell_type": "code",
   "execution_count": 11,
   "metadata": {},
   "outputs": [
    {
     "data": {
      "text/plain": [
       "<__main__.Student at 0x777a7435c470>"
      ]
     },
     "execution_count": 11,
     "metadata": {},
     "output_type": "execute_result"
    }
   ],
   "source": [
    "ans4"
   ]
  },
  {
   "cell_type": "code",
   "execution_count": 12,
   "metadata": {},
   "outputs": [
    {
     "data": {
      "text/plain": [
       "67.2"
      ]
     },
     "execution_count": 12,
     "metadata": {},
     "output_type": "execute_result"
    }
   ],
   "source": [
    "ans5"
   ]
  },
  {
   "cell_type": "code",
   "execution_count": null,
   "metadata": {
    "deletable": false,
    "editable": false,
    "nbgrader": {
     "checksum": "f9c6bd415f8c518e2576f54ac19f91f8",
     "grade": true,
     "grade_id": "cell-b4f583e6445e3b99",
     "locked": true,
     "points": 7,
     "schema_version": 1,
     "solution": false
    }
   },
   "outputs": [],
   "source": []
  },
  {
   "cell_type": "markdown",
   "metadata": {
    "deletable": false,
    "editable": false,
    "nbgrader": {
     "checksum": "19cf06ab3c9cea8f7cf65df95db1729f",
     "grade": false,
     "grade_id": "cell-3b6204096f887070",
     "locked": true,
     "schema_version": 1,
     "solution": false
    }
   },
   "source": [
    "# Advanced Functions\n",
    "\n",
    "## Question 6\n",
    "\n",
    "*7 points*\n",
    "\n",
    "Define a *function, `my_sum`*, that computes the sum of a variable number of elements.\n",
    "\n",
    "Assign the result of the sum of the elements `1,3,5,6`, and `10` to *`ans6a`*.\n",
    "Assign the result of the sum of the elements `10,4,6`, and `2` to *`ans6b`*.\n"
   ]
  },
  {
   "cell_type": "code",
   "execution_count": 13,
   "metadata": {
    "deletable": false,
    "nbgrader": {
     "checksum": "e5f047c7712a6d5e3f848cc93806b55e",
     "grade": false,
     "grade_id": "cell-3e8f3f4bd7b472bb",
     "locked": false,
     "schema_version": 1,
     "solution": true
    }
   },
   "outputs": [],
   "source": [
    "### GRADED\n",
    "\n",
    "### YOUR SOLUTION HERE\n",
    "ans6a = None\n",
    "ans6b = None\n",
    "\n",
    "# YOUR CODE HERE\n",
    "def my_sum(*args):\n",
    "    return sum(args)\n",
    "\n",
    "ans6a = my_sum(1, 3, 5, 6, 10)\n",
    "ans6b = my_sum(10, 4, 6, 2)"
   ]
  },
  {
   "cell_type": "code",
   "execution_count": 14,
   "metadata": {},
   "outputs": [
    {
     "name": "stdout",
     "output_type": "stream",
     "text": [
      "25\n",
      "22\n"
     ]
    }
   ],
   "source": [
    "print(ans6a)  \n",
    "print(ans6b)     "
   ]
  },
  {
   "cell_type": "code",
   "execution_count": null,
   "metadata": {
    "deletable": false,
    "editable": false,
    "nbgrader": {
     "checksum": "64e02ace9533fd4ca2cf7eb5159a0370",
     "grade": true,
     "grade_id": "cell-d26ebb94b60de082",
     "locked": true,
     "points": 7,
     "schema_version": 1,
     "solution": false
    }
   },
   "outputs": [],
   "source": []
  },
  {
   "cell_type": "markdown",
   "metadata": {
    "deletable": false,
    "editable": false,
    "nbgrader": {
     "checksum": "8d65504528f7a19cf2cc321d52891f3d",
     "grade": false,
     "grade_id": "cell-ec4f639f45850c30",
     "locked": true,
     "schema_version": 1,
     "solution": false
    }
   },
   "source": [
    "## Question 7\n",
    "\n",
    "*8 points*\n",
    "\n",
    "Define a *function, `my_average`*, that computes the average of a variable number of elements.\n",
    "\n",
    "Assign the result of the sum of the elements `78,82,91,66` to *`ans7a`*.\n",
    "Assign the result of the sum of the elements `56, 89,76`, and `100` to *`ans6b`*."
   ]
  },
  {
   "cell_type": "code",
   "execution_count": 15,
   "metadata": {
    "deletable": false,
    "nbgrader": {
     "checksum": "4c807401257dd9fd797bf7f6690e0181",
     "grade": false,
     "grade_id": "cell-4e296cbf3c9cb68a",
     "locked": false,
     "schema_version": 1,
     "solution": true
    }
   },
   "outputs": [],
   "source": [
    "### GRADED\n",
    "\n",
    "### YOUR SOLUTION HERE\n",
    "ans7a = None\n",
    "ans7b = None\n",
    "\n",
    "# YOUR CODE HERE\n",
    "def my_average(*args):\n",
    "    result = 0\n",
    "    # Iterating over the Python args tuple\n",
    "    for x in args:\n",
    "        result += x\n",
    "    result = result/len(args)\n",
    "    return result\n",
    "\n",
    "ans7a = my_average(78, 82, 91, 66)\n",
    "ans7b = my_average(56, 89, 76, 100)"
   ]
  },
  {
   "cell_type": "code",
   "execution_count": 16,
   "metadata": {},
   "outputs": [
    {
     "name": "stdout",
     "output_type": "stream",
     "text": [
      "79.25\n",
      "22\n"
     ]
    }
   ],
   "source": [
    "print(ans7a)\n",
    "print(ans6b)"
   ]
  },
  {
   "cell_type": "code",
   "execution_count": null,
   "metadata": {
    "deletable": false,
    "editable": false,
    "nbgrader": {
     "checksum": "363cd8353458ef4df1a6fdf2b7f40b9e",
     "grade": true,
     "grade_id": "cell-932ff9d78842cbc3",
     "locked": true,
     "points": 8,
     "schema_version": 1,
     "solution": false
    }
   },
   "outputs": [],
   "source": []
  },
  {
   "cell_type": "markdown",
   "metadata": {
    "deletable": false,
    "editable": false,
    "nbgrader": {
     "checksum": "97a940e15ab911cc866a50b547f33985",
     "grade": false,
     "grade_id": "cell-65ff43ed5478a235",
     "locked": true,
     "schema_version": 1,
     "solution": false
    }
   },
   "source": [
    "## Question 8\n",
    "\n",
    "*7 points*\n",
    "\n",
    "Suppose an invidual, say *`person1`*, has `Name` equal to `Rosie`, `Age` equal to `33`, and `Profession` equal to `Data Scientist`.\n",
    "\n",
    "Next, suppose that another person, say `person2`*, has `Name` equal to `Kyle`, `Age` equal to `28`, and `Profession` equal to `Data Engineer`. and phone number equal to `4659874982`.\n",
    "\n",
    "Finally, define a *function, `print_last_info()`*, that unpacks the given entries and returns the *string* in the format:\n",
    "\n",
    "```Python\n",
    "<key_n> is <value_n>.\n",
    "```\n",
    "Note that in the pseudocode above, `n` represents the index for the last elements of the arguments passed to the function.\n",
    "\n",
    "\n",
    "Call the function with *`person1`*, and *`person2`* and assign the results to *`ans8a`* and *`ans8b`*, respectively."
   ]
  },
  {
   "cell_type": "code",
   "execution_count": 17,
   "metadata": {
    "deletable": false,
    "nbgrader": {
     "checksum": "4e6285bfc66352044cdb36fdd2408956",
     "grade": false,
     "grade_id": "cell-aaf93ab19c990600",
     "locked": false,
     "schema_version": 1,
     "solution": true
    }
   },
   "outputs": [],
   "source": [
    "### GRADED\n",
    "\n",
    "### YOUR SOLUTION HERE\n",
    "ans8a = None\n",
    "ans8b = None\n",
    "\n",
    "\n",
    "# YOUR CODE HERE\n",
    "def print_last_info_(**data):\n",
    "\n",
    "    for key, value in data.items():\n",
    "        string = (\"{} is {}\".format(key,value))\n",
    "    return string\n",
    "\n",
    "ans8a = print_last_info_(Name= \"Rosie\", Age= 33, Profession= \"Data Scientist\")\n",
    "ans8b = print_last_info_(Name= \"Kyle\", Age= 28, Profession= \"Data Engineer\", Phone_Number=4659874982)\n"
   ]
  },
  {
   "cell_type": "code",
   "execution_count": 18,
   "metadata": {},
   "outputs": [
    {
     "name": "stdout",
     "output_type": "stream",
     "text": [
      "Result for person1: Profession is Data Scientist\n",
      "Result for person2: Phone_Number is 4659874982\n"
     ]
    }
   ],
   "source": [
    "# Print the results\n",
    "print(\"Result for person1:\", ans8a)\n",
    "print(\"Result for person2:\", ans8b)"
   ]
  },
  {
   "cell_type": "code",
   "execution_count": null,
   "metadata": {
    "deletable": false,
    "editable": false,
    "nbgrader": {
     "checksum": "64903e6677058f8dca2200d10d7b6d44",
     "grade": true,
     "grade_id": "cell-04b71771d6261199",
     "locked": true,
     "points": 7,
     "schema_version": 1,
     "solution": false
    }
   },
   "outputs": [],
   "source": []
  },
  {
   "cell_type": "markdown",
   "metadata": {
    "deletable": false,
    "editable": false,
    "nbgrader": {
     "checksum": "12d55870031cd88183d921241db394ca",
     "grade": false,
     "grade_id": "cell-43bfe5fd0e074504",
     "locked": true,
     "schema_version": 1,
     "solution": false
    }
   },
   "source": [
    "## Question 9\n",
    "\n",
    "*7 points*\n",
    "\n",
    "Define a *dictionary, `movie`*, with *keys* `Title`, `Director`, and `Year` and corresponding *values* `Inception`, `Nolan`, and `2010`.\n",
    "\n",
    "\n",
    "Define a *function, `print_movie()`*, that unpacks the entries of a provided dictionary and returns the *string* in the format:\n",
    "\n",
    "```Python\n",
    "<title_name_key>: <title_name_value>\n",
    "```\n",
    "\n",
    "\n",
    "Call the function with the *dictionary `movie`* and assign the result to *`ans9a`*.\n",
    "\n",
    "What happens if you also pass the argument `Music = \"Zimmer\"` after *`movie`*? Assign the resulting string to *`ans9b`*"
   ]
  },
  {
   "cell_type": "code",
   "execution_count": 19,
   "metadata": {
    "deletable": false,
    "nbgrader": {
     "checksum": "b0832e047e8b2a43e698e4daef720cec",
     "grade": false,
     "grade_id": "cell-a0044f7a2d2d43be",
     "locked": false,
     "schema_version": 1,
     "solution": true
    }
   },
   "outputs": [],
   "source": [
    "### GRADED\n",
    "\n",
    "### YOUR SOLUTION HERE\n",
    "ans9a = None\n",
    "ans9b = None\n",
    "\n",
    "\n",
    "\n",
    "# YOUR CODE HERE\n",
    "movie = {\"Title\": \"Inception\",\"Director\": \"Nolan\", \"Year\": 2010}\n",
    "\n",
    "def print_movie(**kwargs):\n",
    "    for key, value in kwargs.items():\n",
    "        string = f\"{key}: {value}\"\n",
    "        return string\n",
    "\n",
    "ans9a = print_movie(**movie)\n",
    "ans9b = print_movie(**movie, Music=\"Zimmer\")"
   ]
  },
  {
   "cell_type": "code",
   "execution_count": 20,
   "metadata": {},
   "outputs": [
    {
     "data": {
      "text/plain": [
       "'Title: Inception'"
      ]
     },
     "execution_count": 20,
     "metadata": {},
     "output_type": "execute_result"
    }
   ],
   "source": [
    "ans9a"
   ]
  },
  {
   "cell_type": "code",
   "execution_count": null,
   "metadata": {
    "deletable": false,
    "editable": false,
    "nbgrader": {
     "checksum": "e3bb78354314a38bcb5a9e67e0517a2c",
     "grade": true,
     "grade_id": "cell-c8958150b39621f6",
     "locked": true,
     "points": 7,
     "schema_version": 1,
     "solution": false
    }
   },
   "outputs": [],
   "source": []
  },
  {
   "cell_type": "markdown",
   "metadata": {
    "deletable": false,
    "editable": false,
    "nbgrader": {
     "checksum": "21cd2045a0e784571466524939f2e9fb",
     "grade": false,
     "grade_id": "cell-f07db957e806a454",
     "locked": true,
     "schema_version": 1,
     "solution": false
    }
   },
   "source": [
    "# Decorators and Wrappers\n",
    "\n",
    "\n",
    "## Question 10\n",
    "\n",
    "*6 points*\n",
    "\n",
    "Define a *function, `plus_one`*, that takes an integer as input. Within this *function*, define another *function, `add_one` that takes the same integer as input. This function should add `1` to the integer and return the result.\n",
    "\n",
    "Finally, the *function, `plus_one`* should call the *function, `add_one`, and return the result.\n",
    "\n",
    "Test your *functions* with the number `7` and assign the result to *`ans10`*."
   ]
  },
  {
   "cell_type": "code",
   "execution_count": 21,
   "metadata": {
    "deletable": false,
    "nbgrader": {
     "checksum": "26dea2b2e29e8c108f82a5e029fb4208",
     "grade": false,
     "grade_id": "cell-5827e834b304bb6e",
     "locked": false,
     "schema_version": 1,
     "solution": true
    }
   },
   "outputs": [],
   "source": [
    "### GRADED\n",
    "\n",
    "### YOUR SOLUTION HERE\n",
    "ans10 = None\n",
    "\n",
    "# YOUR CODE HERE\n",
    "def plus_one(n):\n",
    "    def add_one(x):\n",
    "        return x + 1\n",
    "    return add_one(n)\n",
    "\n",
    "ans10 = plus_one(7)\n"
   ]
  },
  {
   "cell_type": "code",
   "execution_count": 22,
   "metadata": {},
   "outputs": [
    {
     "name": "stdout",
     "output_type": "stream",
     "text": [
      "8\n"
     ]
    }
   ],
   "source": [
    "print(ans10)"
   ]
  },
  {
   "cell_type": "code",
   "execution_count": null,
   "metadata": {
    "deletable": false,
    "editable": false,
    "nbgrader": {
     "checksum": "0d8e2b42742e63ae77b3046bedc74b5a",
     "grade": true,
     "grade_id": "cell-353e5a76e0c0e32b",
     "locked": true,
     "points": 6,
     "schema_version": 1,
     "solution": false
    }
   },
   "outputs": [],
   "source": []
  },
  {
   "cell_type": "markdown",
   "metadata": {
    "deletable": false,
    "editable": false,
    "nbgrader": {
     "checksum": "7c791be84933f2cf8820a52156fc89ee",
     "grade": false,
     "grade_id": "cell-22d637305d83a9d8",
     "locked": true,
     "schema_version": 1,
     "solution": false
    }
   },
   "source": [
    "## Question 11\n",
    "\n",
    "*7 points*\n",
    "\n",
    "Define a *function, `uppercase_decorator`*, that takes a function as an input. This function will contain a wrapper *function, `wrapper`*, that will  convert a *string* to uppercase.\n",
    "\n",
    "Define another *function, `say_hello()`*, that takes no argument and returns the *string `hello there!`*. Pass the *function, `say_hello()`* to *`uppercase_decorator`* and assign the result to *`ans11`*."
   ]
  },
  {
   "cell_type": "code",
   "execution_count": 23,
   "metadata": {
    "deletable": false,
    "nbgrader": {
     "checksum": "3519a371888a6b5795ab184b5f816d4e",
     "grade": false,
     "grade_id": "cell-0e0732ee0288df46",
     "locked": false,
     "schema_version": 1,
     "solution": true
    }
   },
   "outputs": [],
   "source": [
    "### GRADED\n",
    "\n",
    "### YOUR SOLUTION HERE\n",
    "ans11 = None\n",
    "def say_hi():\n",
    "    pass\n",
    "# YOUR CODE HERE\n",
    "def uppercase_decorator(function):\n",
    "    def wrapper():\n",
    "        func = function()\n",
    "        make_uppercase = func.upper()\n",
    "        return make_uppercase\n",
    "\n",
    "    return wrapper\n",
    "\n",
    "@uppercase_decorator\n",
    "def say_hello():\n",
    "    return 'hello there!'\n",
    "\n",
    "ans11 = say_hello\n",
    "\n"
   ]
  },
  {
   "cell_type": "code",
   "execution_count": 24,
   "metadata": {},
   "outputs": [
    {
     "name": "stdout",
     "output_type": "stream",
     "text": [
      "<function uppercase_decorator.<locals>.wrapper at 0x777a743cd158>\n"
     ]
    }
   ],
   "source": [
    "print(ans11)"
   ]
  },
  {
   "cell_type": "code",
   "execution_count": null,
   "metadata": {
    "deletable": false,
    "editable": false,
    "nbgrader": {
     "checksum": "46dc835da1acb446c00b99735889118d",
     "grade": true,
     "grade_id": "cell-332f0f5cd356d0a7",
     "locked": true,
     "points": 7,
     "schema_version": 1,
     "solution": false
    }
   },
   "outputs": [],
   "source": []
  },
  {
   "cell_type": "markdown",
   "metadata": {
    "deletable": false,
    "editable": false,
    "nbgrader": {
     "checksum": "eac0b5e157327e573a5ccc09a0892be0",
     "grade": false,
     "grade_id": "cell-f08efb9d0f2bab5e",
     "locked": true,
     "schema_version": 1,
     "solution": false
    }
   },
   "source": [
    "## Question 12\n",
    "\n",
    "*9 points*\n",
    "\n",
    "Define a *function, `decorator_with_arguments`*, that takes a function as an input. This function will contain a wrapper *function, `wrapper_accepting_arguments`* that will take two *strings* as input and will print the *string*\n",
    "`My arguments are: <arg1>, <arg2>`.\n",
    "\n",
    "This last step can be accomplished via the command:\n",
    "```Python\n",
    "print(\"My arguments are: {0}, {1}\".format(arg1,arg2))\n",
    "```\n",
    "The *function, `decorator_with_arguments`* should return the *function, `wrapper_accepting_arguments`*.\n",
    "\n",
    "Define another *function, `cities`*, that takes two arguments and print the *string*\n",
    "`Cities I love are: <arg1>, <arg2>`.\n",
    "\n",
    "This last step can be accomplished via the command:\n",
    "```Python\n",
    " print(\"Cities I love are {0} and {1}\".format(city_one, city_two))\n",
    "```\n",
    "\n",
    "Test your *functions* with the cities `Paris` and `New York` and assign the result to *`ans12`*."
   ]
  },
  {
   "cell_type": "code",
   "execution_count": 25,
   "metadata": {
    "deletable": false,
    "nbgrader": {
     "checksum": "d811fb7a426cd50b8472780c64f8968e",
     "grade": false,
     "grade_id": "cell-d52c3389227b0f29",
     "locked": false,
     "schema_version": 1,
     "solution": true
    }
   },
   "outputs": [
    {
     "name": "stdout",
     "output_type": "stream",
     "text": [
      "My arguments are: Paris, New York\n",
      "Cities I love are Paris and New York\n"
     ]
    }
   ],
   "source": [
    "### GRADED\n",
    "\n",
    "### YOUR SOLUTION HERE\n",
    "ans12 = None\n",
    "def cities(city_one, city_two):\n",
    "    pass\n",
    "\n",
    "# YOUR CODE HERE\n",
    "def decorator_with_arguments(func):\n",
    "    def wrapper_accepting_arguments(arg1, arg2):\n",
    "        print(\"My arguments are: {0}, {1}\".format(arg1, arg2))\n",
    "        return func(arg1, arg2)\n",
    "    return wrapper_accepting_arguments\n",
    "\n",
    "def cities(city_one, city_two):\n",
    "    print(\"Cities I love are {0} and {1}\".format(city_one, city_two))\n",
    "    \n",
    "decorated_cities = decorator_with_arguments(cities)\n",
    "\n",
    "ans12 = decorated_cities(\"Paris\", \"New York\")"
   ]
  },
  {
   "cell_type": "code",
   "execution_count": null,
   "metadata": {
    "deletable": false,
    "editable": false,
    "nbgrader": {
     "checksum": "abb25a722053d0336f5f6b2c1a6176a7",
     "grade": true,
     "grade_id": "cell-88d85676d0d2513f",
     "locked": true,
     "points": 9,
     "schema_version": 1,
     "solution": false
    }
   },
   "outputs": [],
   "source": []
  },
  {
   "cell_type": "markdown",
   "metadata": {
    "deletable": false,
    "editable": false,
    "nbgrader": {
     "checksum": "d2b5f4a5de62c39aa9865f5811dbc0c3",
     "grade": false,
     "grade_id": "cell-6fc0d2cc8bc3578f",
     "locked": true,
     "schema_version": 1,
     "solution": false
    }
   },
   "source": [
    "## Question 13\n",
    "\n",
    "*9 points*\n",
    "\n",
    "Define a *function, `decorator_passing_arbitrary_arguments`*, that takes a function as an input. This function will contain a wrapper *function, `wrapper_accepting_arbitrary_arguments`* that will take a variable number of arguments as input and will print the *string* `The positional arguments are (<arg1, arg2, arg3...>)`.\n",
    "\n",
    "This last step can be accomplished via the command:\n",
    "```Python\n",
    "print('The positional arguments are', args)\n",
    "```\n",
    "The *function, `decorator_passing_arbitrary_arguments`* should return the *function, `wrapper_accepting_arbitrary_arguments`*.\n",
    "\n",
    "Define another *function, `function_with_arguments`*, that takes three arguments and returns them as a *tuple*.\n",
    "\n",
    "Test your *functions* with the arguments `1`, `2` and `3` and assign the result to *`ans13`*."
   ]
  },
  {
   "cell_type": "code",
   "execution_count": 26,
   "metadata": {
    "deletable": false,
    "nbgrader": {
     "checksum": "a8a9c9acd62bf364ecfb67b26a0c8a69",
     "grade": false,
     "grade_id": "cell-511ad2dcfd986038",
     "locked": false,
     "schema_version": 1,
     "solution": true
    }
   },
   "outputs": [
    {
     "name": "stdout",
     "output_type": "stream",
     "text": [
      "The positional arguments are (1, 2, 3)\n"
     ]
    }
   ],
   "source": [
    "### GRADED\n",
    "\n",
    "### YOUR SOLUTION HERE\n",
    "ans13 = None\n",
    "def function_with_arguments(arg1, arg2, arg3):\n",
    "    pass\n",
    "\n",
    "# YOUR CODE HERE\n",
    "def decorator_passing_arbitrary_arguments(func):\n",
    "    def wrapper_accepting_arbitrary_arguments(*args):\n",
    "        print('The positional arguments are', args)\n",
    "        func(*args)\n",
    "    return wrapper_accepting_arbitrary_arguments\n",
    "\n",
    "@decorator_passing_arbitrary_arguments\n",
    "def function_with_arguments(arg1, arg2, arg3):\n",
    "    return arg1, arg2, arg3\n",
    "\n",
    "\n",
    "ans13 = function_with_arguments(1, 2, 3)"
   ]
  },
  {
   "cell_type": "code",
   "execution_count": 27,
   "metadata": {},
   "outputs": [
    {
     "name": "stdout",
     "output_type": "stream",
     "text": [
      "None\n"
     ]
    }
   ],
   "source": [
    "print(ans13)"
   ]
  },
  {
   "cell_type": "code",
   "execution_count": null,
   "metadata": {
    "deletable": false,
    "editable": false,
    "nbgrader": {
     "checksum": "abdf2032ca6f69c5755691ad75cc04e4",
     "grade": true,
     "grade_id": "cell-a68fb9187ef9c2b9",
     "locked": true,
     "points": 9,
     "schema_version": 1,
     "solution": false
    }
   },
   "outputs": [],
   "source": []
  }
 ],
 "metadata": {
  "kernelspec": {
   "display_name": "Python 3",
   "language": "python",
   "name": "python3"
  },
  "language_info": {
   "codemirror_mode": {
    "name": "ipython",
    "version": 3
   },
   "file_extension": ".py",
   "mimetype": "text/x-python",
   "name": "python",
   "nbconvert_exporter": "python",
   "pygments_lexer": "ipython3",
   "version": "3.6.9"
  }
 },
 "nbformat": 4,
 "nbformat_minor": 4
}
